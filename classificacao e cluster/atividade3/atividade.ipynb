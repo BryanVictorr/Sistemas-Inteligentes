{
 "cells": [
  {
   "cell_type": "markdown",
   "id": "367c28c8-6919-463e-8fc9-57c327e2bb6c",
   "metadata": {},
   "source": [
    "$Atividade (2.5):$ Utilizando o conjunto de dados MNIST realize as seguintes atividades:\n",
    "<ol>\n",
    "    <li>Tente alcançar uma acurácia acima de 97% no conjunto de teste com KNeighborsClassifier, ajustando os hiperparâmetros 'weights' e 'n_neighbors' com o grid search </li>\n",
    "    <li>Escreva uma função que modifique apenas as imagens de treinamento do dataset deslocando um pixel em de cada imagem em qualquer direção (esquerda, direita, para cima ou para baixo), ou seja, para cada imagem no conjunto de treinamento, quatro imagens deslocadas são criadas e as adicione ao conjunto de treinamento. Em seguida, treine seu melhor classificador com o novo conjunto aumentado. Finalmente, meça o desempenho do modelo através das métricas acurácia, precisão, revocação e F1-score. Dica: a função shift() do módulo scipy.ndimage.interpolation pode ser útil para deslocar o pixel. </li>\n",
    "</ol>"
   ]
  },
  {
   "cell_type": "markdown",
   "id": "98da3db5-6c80-4ccc-9436-cb372f7df9df",
   "metadata": {
    "tags": []
   },
   "source": [
    "## Importando as bibliotecas"
   ]
  },
  {
   "cell_type": "code",
   "execution_count": 4,
   "id": "3c51305d-4c75-4ce1-a9a4-0b4b77b1d688",
   "metadata": {},
   "outputs": [],
   "source": [
    "import pandas as pd\n",
    "import numpy as np\n",
    "import matplotlib as mpl\n",
    "import matplotlib.pyplot as plt\n",
    "from sklearn.metrics import accuracy_score"
   ]
  },
  {
   "cell_type": "code",
   "execution_count": 5,
   "id": "548ae16b-300d-4d94-ae5a-f1dbd2d6d89c",
   "metadata": {},
   "outputs": [],
   "source": [
    "from sklearn.datasets import fetch_openml\n",
    "mnist = fetch_openml('mnist_784', version=1, cache=True)\n",
    "mnist.target = mnist.target.astype(np.int8) #transforma as labels de string para int"
   ]
  },
  {
   "cell_type": "code",
   "execution_count": 6,
   "id": "98d65389-4dc0-42a9-922f-0e20f22b8484",
   "metadata": {},
   "outputs": [
    {
     "data": {
      "text/plain": [
       "sklearn.utils.Bunch"
      ]
     },
     "execution_count": 6,
     "metadata": {},
     "output_type": "execute_result"
    }
   ],
   "source": [
    "type(mnist)"
   ]
  },
  {
   "cell_type": "code",
   "execution_count": 7,
   "id": "3eb4fc14-0dc2-4814-abaa-9dc297dc52d2",
   "metadata": {},
   "outputs": [
    {
     "data": {
      "text/plain": [
       "{'id': '554',\n",
       " 'name': 'mnist_784',\n",
       " 'version': '1',\n",
       " 'description_version': '1',\n",
       " 'format': 'ARFF',\n",
       " 'creator': ['Yann LeCun', 'Corinna Cortes', 'Christopher J.C. Burges'],\n",
       " 'upload_date': '2014-09-29T03:28:38',\n",
       " 'language': 'English',\n",
       " 'licence': 'Public',\n",
       " 'url': 'https://api.openml.org/data/v1/download/52667/mnist_784.arff',\n",
       " 'parquet_url': 'http://openml1.win.tue.nl/dataset554/dataset_554.pq',\n",
       " 'file_id': '52667',\n",
       " 'default_target_attribute': 'class',\n",
       " 'tag': ['AzurePilot',\n",
       "  'OpenML-CC18',\n",
       "  'OpenML100',\n",
       "  'study_1',\n",
       "  'study_123',\n",
       "  'study_41',\n",
       "  'study_99',\n",
       "  'vision'],\n",
       " 'visibility': 'public',\n",
       " 'minio_url': 'http://openml1.win.tue.nl/dataset554/dataset_554.pq',\n",
       " 'status': 'active',\n",
       " 'processing_date': '2020-11-20 20:12:09',\n",
       " 'md5_checksum': '0298d579eb1b86163de7723944c7e495'}"
      ]
     },
     "execution_count": 7,
     "metadata": {},
     "output_type": "execute_result"
    }
   ],
   "source": [
    "mnist.details"
   ]
  },
  {
   "cell_type": "code",
   "execution_count": 8,
   "id": "9d005371-cf05-40b8-b664-78a16d02caee",
   "metadata": {},
   "outputs": [
    {
     "data": {
      "text/plain": [
       "\"**Author**: Yann LeCun, Corinna Cortes, Christopher J.C. Burges  \\n**Source**: [MNIST Website](http://yann.lecun.com/exdb/mnist/) - Date unknown  \\n**Please cite**:  \\n\\nThe MNIST database of handwritten digits with 784 features, raw data available at: http://yann.lecun.com/exdb/mnist/. It can be split in a training set of the first 60,000 examples, and a test set of 10,000 examples  \\n\\nIt is a subset of a larger set available from NIST. The digits have been size-normalized and centered in a fixed-size image. It is a good database for people who want to try learning techniques and pattern recognition methods on real-world data while spending minimal efforts on preprocessing and formatting. The original black and white (bilevel) images from NIST were size normalized to fit in a 20x20 pixel box while preserving their aspect ratio. The resulting images contain grey levels as a result of the anti-aliasing technique used by the normalization algorithm. the images were centered in a 28x28 image by computing the center of mass of the pixels, and translating the image so as to position this point at the center of the 28x28 field.  \\n\\nWith some classification methods (particularly template-based methods, such as SVM and K-nearest neighbors), the error rate improves when the digits are centered by bounding box rather than center of mass. If you do this kind of pre-processing, you should report it in your publications. The MNIST database was constructed from NIST's NIST originally designated SD-3 as their training set and SD-1 as their test set. However, SD-3 is much cleaner and easier to recognize than SD-1. The reason for this can be found on the fact that SD-3 was collected among Census Bureau employees, while SD-1 was collected among high-school students. Drawing sensible conclusions from learning experiments requires that the result be independent of the choice of training set and test among the complete set of samples. Therefore it was necessary to build a new database by mixing NIST's datasets.  \\n\\nThe MNIST training set is composed of 30,000 patterns from SD-3 and 30,000 patterns from SD-1. Our test set was composed of 5,000 patterns from SD-3 and 5,000 patterns from SD-1. The 60,000 pattern training set contained examples from approximately 250 writers. We made sure that the sets of writers of the training set and test set were disjoint. SD-1 contains 58,527 digit images written by 500 different writers. In contrast to SD-3, where blocks of data from each writer appeared in sequence, the data in SD-1 is scrambled. Writer identities for SD-1 is available and we used this information to unscramble the writers. We then split SD-1 in two: characters written by the first 250 writers went into our new training set. The remaining 250 writers were placed in our test set. Thus we had two sets with nearly 30,000 examples each. The new training set was completed with enough examples from SD-3, starting at pattern # 0, to make a full set of 60,000 training patterns. Similarly, the new test set was completed with SD-3 examples starting at pattern # 35,000 to make a full set with 60,000 test patterns. Only a subset of 10,000 test images (5,000 from SD-1 and 5,000 from SD-3) is available on this site. The full 60,000 sample training set is available.\\n\\nDownloaded from openml.org.\""
      ]
     },
     "execution_count": 8,
     "metadata": {},
     "output_type": "execute_result"
    }
   ],
   "source": [
    "mnist.DESCR"
   ]
  },
  {
   "cell_type": "code",
   "execution_count": 9,
   "id": "454dd7e6-0c76-48d8-962c-b19741d9f9a7",
   "metadata": {},
   "outputs": [
    {
     "data": {
      "text/plain": [
       "(70000, 784)"
      ]
     },
     "execution_count": 9,
     "metadata": {},
     "output_type": "execute_result"
    }
   ],
   "source": [
    "mnist.data.shape"
   ]
  },
  {
   "cell_type": "code",
   "execution_count": 10,
   "id": "42f59828-d3a8-4db8-becd-b9c1bb47b4b5",
   "metadata": {},
   "outputs": [
    {
     "data": {
      "text/plain": [
       "(70000,)"
      ]
     },
     "execution_count": 10,
     "metadata": {},
     "output_type": "execute_result"
    }
   ],
   "source": [
    "mnist.target.shape"
   ]
  },
  {
   "cell_type": "code",
   "execution_count": 11,
   "id": "5c5d9c0b-0421-4c69-a7bd-6d81356bb2a7",
   "metadata": {},
   "outputs": [],
   "source": [
    "X,y = mnist['data'], mnist['target']"
   ]
  },
  {
   "cell_type": "code",
   "execution_count": 12,
   "id": "858c9d7a-876b-4d66-b4c6-f6ebb243396b",
   "metadata": {},
   "outputs": [
    {
     "data": {
      "text/plain": [
       "pandas.core.frame.DataFrame"
      ]
     },
     "execution_count": 12,
     "metadata": {},
     "output_type": "execute_result"
    }
   ],
   "source": [
    "type(X)"
   ]
  },
  {
   "cell_type": "code",
   "execution_count": 16,
   "id": "02d73fb1-ea48-453d-b94a-477e35fc7a14",
   "metadata": {},
   "outputs": [
    {
     "data": {
      "text/plain": [
       "pixel1      0.0\n",
       "pixel2      0.0\n",
       "pixel3      0.0\n",
       "pixel4      0.0\n",
       "pixel5      0.0\n",
       "           ... \n",
       "pixel780    0.0\n",
       "pixel781    0.0\n",
       "pixel782    0.0\n",
       "pixel783    0.0\n",
       "pixel784    0.0\n",
       "Name: 15000, Length: 784, dtype: float64"
      ]
     },
     "execution_count": 16,
     "metadata": {},
     "output_type": "execute_result"
    }
   ],
   "source": [
    "X.iloc[15000]"
   ]
  },
  {
   "cell_type": "code",
   "execution_count": 17,
   "id": "4d9f53d1-e0a8-442f-96f2-e0cb6205e50a",
   "metadata": {},
   "outputs": [],
   "source": [
    "linha = X.iloc[15888]\n",
    "digito = np.array(linha).reshape(28,28)"
   ]
  },
  {
   "cell_type": "code",
   "execution_count": 18,
   "id": "59208ce7-1911-47a5-95ec-d5fec369953a",
   "metadata": {},
   "outputs": [
    {
     "data": {
      "text/plain": [
       "array([[  0.,   0.,   0.,   0.,   0.,   0.,   0.,   0.,   0.,   0.,   0.,\n",
       "          0.,   0.,   0.,   0.,   0.,   0.,   0.,   0.,   0.,   0.,   0.,\n",
       "          0.,   0.,   0.,   0.,   0.,   0.],\n",
       "       [  0.,   0.,   0.,   0.,   0.,   0.,   0.,   0.,   0.,   0.,   0.,\n",
       "          0.,   0.,   0.,   0.,   0.,   0.,   0.,   0.,   0.,   0.,   0.,\n",
       "          0.,   0.,   0.,   0.,   0.,   0.],\n",
       "       [  0.,   0.,   0.,   0.,   0.,   0.,   0.,   0.,   0.,   0.,   0.,\n",
       "          0.,   0.,   0.,   0.,   0.,   0.,   0.,   0.,   0.,   0.,   0.,\n",
       "          0.,   0.,   0.,   0.,   0.,   0.],\n",
       "       [  0.,   0.,   0.,   0.,   0.,   0.,   0.,   0.,   0.,   0.,   0.,\n",
       "          0.,   0.,   0.,   0.,   0.,   0.,   0.,   0.,   0.,   0.,   0.,\n",
       "          0.,   0.,   0.,   0.,   0.,   0.],\n",
       "       [  0.,   0.,   0.,   0.,   0.,   0.,   0.,   0.,   0.,   0.,   0.,\n",
       "          0.,   0., 170., 217.,  79.,   0.,   0.,   0.,   0.,   0.,   0.,\n",
       "          0.,   0.,   0.,   0.,   0.,   0.],\n",
       "       [  0.,   0.,   0.,   0.,   0.,   0.,   0.,   0.,   0.,   0.,   0.,\n",
       "          0.,   0., 170., 253., 140.,   0.,   0.,   0.,   0.,   0.,   0.,\n",
       "          0.,   0.,   0.,   0.,   0.,   0.],\n",
       "       [  0.,   0.,   0.,   0.,   0.,   0.,   0.,   0.,   0.,   0.,   0.,\n",
       "          0.,   0., 170., 253., 140.,   0.,   0.,   0.,   0.,   0.,   0.,\n",
       "          0.,   0.,   0.,   0.,   0.,   0.],\n",
       "       [  0.,   0.,   0.,   0.,   0.,   0.,   0.,   0.,   0.,   0.,   0.,\n",
       "          0.,   0., 170., 253., 140.,   0.,   0.,   0.,   0.,   0.,   0.,\n",
       "          0.,   0.,   0.,   0.,   0.,   0.],\n",
       "       [  0.,   0.,   0.,   0.,   0.,   0.,   0.,   0.,   0.,   0.,   0.,\n",
       "          0.,   0., 170., 254., 141.,   0.,   0.,   0.,   0.,   0.,   0.,\n",
       "          0.,   0.,   0.,   0.,   0.,   0.],\n",
       "       [  0.,   0.,   0.,   0.,   0.,   0.,   0.,   0.,   0.,   0.,   0.,\n",
       "          0.,   0., 170., 253., 140.,   0.,   0.,   0.,   0.,   0.,   0.,\n",
       "          0.,   0.,   0.,   0.,   0.,   0.],\n",
       "       [  0.,   0.,   0.,   0.,   0.,   0.,   0.,   0.,   0.,   0.,   0.,\n",
       "          0.,   0., 170., 253., 140.,   0.,   0.,   0.,   0.,   0.,   0.,\n",
       "          0.,   0.,   0.,   0.,   0.,   0.],\n",
       "       [  0.,   0.,   0.,   0.,   0.,   0.,   0.,   0.,   0.,   0.,   0.,\n",
       "          0.,   0., 170., 253., 140.,   0.,   0.,   0.,   0.,   0.,   0.,\n",
       "          0.,   0.,   0.,   0.,   0.,   0.],\n",
       "       [  0.,   0.,   0.,   0.,   0.,   0.,   0.,   0.,   0.,   0.,   0.,\n",
       "          0.,  29., 255., 254., 141.,   0.,   0.,   0.,   0.,   0.,   0.,\n",
       "          0.,   0.,   0.,   0.,   0.,   0.],\n",
       "       [  0.,   0.,   0.,   0.,   0.,   0.,   0.,   0.,   0.,   0.,   0.,\n",
       "          0.,  29., 253., 253., 140.,   0.,   0.,   0.,   0.,   0.,   0.,\n",
       "          0.,   0.,   0.,   0.,   0.,   0.],\n",
       "       [  0.,   0.,   0.,   0.,   0.,   0.,   0.,   0.,   0.,   0.,   0.,\n",
       "          0.,  29., 253., 253., 140.,   0.,   0.,   0.,   0.,   0.,   0.,\n",
       "          0.,   0.,   0.,   0.,   0.,   0.],\n",
       "       [  0.,   0.,   0.,   0.,   0.,   0.,   0.,   0.,   0.,   0.,   0.,\n",
       "          0.,  29., 253., 253., 140.,   0.,   0.,   0.,   0.,   0.,   0.,\n",
       "          0.,   0.,   0.,   0.,   0.,   0.],\n",
       "       [  0.,   0.,   0.,   0.,   0.,   0.,   0.,   0.,   0.,   0.,   0.,\n",
       "          0.,  29., 255., 254., 141.,   0.,   0.,   0.,   0.,   0.,   0.,\n",
       "          0.,   0.,   0.,   0.,   0.,   0.],\n",
       "       [  0.,   0.,   0.,   0.,   0.,   0.,   0.,   0.,   0.,   0.,   0.,\n",
       "          0.,  29., 253., 253., 140.,   0.,   0.,   0.,   0.,   0.,   0.,\n",
       "          0.,   0.,   0.,   0.,   0.,   0.],\n",
       "       [  0.,   0.,   0.,   0.,   0.,   0.,   0.,   0.,   0.,   0.,   0.,\n",
       "          0.,   7., 188., 253., 140.,   0.,   0.,   0.,   0.,   0.,   0.,\n",
       "          0.,   0.,   0.,   0.,   0.,   0.],\n",
       "       [  0.,   0.,   0.,   0.,   0.,   0.,   0.,   0.,   0.,   0.,   0.,\n",
       "          0.,  26., 244., 253., 140.,   0.,   0.,   0.,   0.,   0.,   0.,\n",
       "          0.,   0.,   0.,   0.,   0.,   0.],\n",
       "       [  0.,   0.,   0.,   0.,   0.,   0.,   0.,   0.,   0.,   0.,   0.,\n",
       "          0.,  29., 255., 254., 141.,   0.,   0.,   0.,   0.,   0.,   0.,\n",
       "          0.,   0.,   0.,   0.,   0.,   0.],\n",
       "       [  0.,   0.,   0.,   0.,   0.,   0.,   0.,   0.,   0.,   0.,   0.,\n",
       "          0.,  29., 253., 253.,  65.,   0.,   0.,   0.,   0.,   0.,   0.,\n",
       "          0.,   0.,   0.,   0.,   0.,   0.],\n",
       "       [  0.,   0.,   0.,   0.,   0.,   0.,   0.,   0.,   0.,   0.,   0.,\n",
       "          0., 105., 253., 225.,  19.,   0.,   0.,   0.,   0.,   0.,   0.,\n",
       "          0.,   0.,   0.,   0.,   0.,   0.],\n",
       "       [  0.,   0.,   0.,   0.,   0.,   0.,   0.,   0.,   0.,   0.,   0.,\n",
       "          0., 204., 228.,  43.,   0.,   0.,   0.,   0.,   0.,   0.,   0.,\n",
       "          0.,   0.,   0.,   0.,   0.,   0.],\n",
       "       [  0.,   0.,   0.,   0.,   0.,   0.,   0.,   0.,   0.,   0.,   0.,\n",
       "          0.,   0.,   0.,   0.,   0.,   0.,   0.,   0.,   0.,   0.,   0.,\n",
       "          0.,   0.,   0.,   0.,   0.,   0.],\n",
       "       [  0.,   0.,   0.,   0.,   0.,   0.,   0.,   0.,   0.,   0.,   0.,\n",
       "          0.,   0.,   0.,   0.,   0.,   0.,   0.,   0.,   0.,   0.,   0.,\n",
       "          0.,   0.,   0.,   0.,   0.,   0.],\n",
       "       [  0.,   0.,   0.,   0.,   0.,   0.,   0.,   0.,   0.,   0.,   0.,\n",
       "          0.,   0.,   0.,   0.,   0.,   0.,   0.,   0.,   0.,   0.,   0.,\n",
       "          0.,   0.,   0.,   0.,   0.,   0.],\n",
       "       [  0.,   0.,   0.,   0.,   0.,   0.,   0.,   0.,   0.,   0.,   0.,\n",
       "          0.,   0.,   0.,   0.,   0.,   0.,   0.,   0.,   0.,   0.,   0.,\n",
       "          0.,   0.,   0.,   0.,   0.,   0.]])"
      ]
     },
     "execution_count": 18,
     "metadata": {},
     "output_type": "execute_result"
    }
   ],
   "source": [
    "digito"
   ]
  },
  {
   "cell_type": "markdown",
   "id": "40a0da96-b197-4d8b-9f69-02b84d83eec0",
   "metadata": {},
   "source": [
    "## 2. Visualização dos dados"
   ]
  },
  {
   "cell_type": "code",
   "execution_count": 20,
   "id": "457c3d71-8832-4cca-8ae3-d69f4b975df6",
   "metadata": {},
   "outputs": [
    {
     "data": {
      "image/png": "[encoded data removed]",
      "text/plain": [
       "<Figure size 432x288 with 1 Axes>"
      ]
     },
     "metadata": {
      "needs_background": "light"
     },
     "output_type": "display_data"
    }
   ],
   "source": [
    "plt.imshow(digito, cmap = mpl.cm.binary,\n",
    "           interpolation=\"nearest\")\n",
    "plt.axis(\"off\")\n",
    "plt.show()"
   ]
  },
  {
   "cell_type": "code",
   "execution_count": 21,
   "id": "88f9221d-2878-4fd0-803d-b40f578bbe23",
   "metadata": {},
   "outputs": [
    {
     "data": {
      "text/plain": [
       "1"
      ]
     },
     "execution_count": 21,
     "metadata": {},
     "output_type": "execute_result"
    }
   ],
   "source": [
    "y[15888]"
   ]
  },
  {
   "cell_type": "markdown",
   "id": "081ed108-79e1-4940-aa4d-c530255a0cf9",
   "metadata": {},
   "source": [
    "## 3. Pré-processamento"
   ]
  },
  {
   "cell_type": "code",
   "execution_count": 23,
   "id": "bb2a69c4-4378-43a2-9fd9-cc3ad02a9eb6",
   "metadata": {},
   "outputs": [],
   "source": [
    "X_train, y_train, X_test, y_test = X[:60000], y[:60000], X[60000:], y[60000:]"
   ]
  },
  {
   "cell_type": "code",
   "execution_count": 24,
   "id": "1c0c0c3d-303f-42dd-9cc7-dc7b13d3fe06",
   "metadata": {},
   "outputs": [
    {
     "name": "stdout",
     "output_type": "stream",
     "text": [
      "(10000, 784) (10000,) (60000, 784) (60000,)\n"
     ]
    }
   ],
   "source": [
    "print(X_test.shape, y_test.shape, X_train.shape, y_train.shape)"
   ]
  },
  {
   "cell_type": "code",
   "execution_count": 25,
   "id": "52acbe88-0db5-42cd-a379-b45c27acf2dd",
   "metadata": {},
   "outputs": [],
   "source": [
    "index = np.random.permutation(60000)\n",
    "X_train, y_train = X_train.iloc[index], y_train.iloc[index]"
   ]
  },
  {
   "cell_type": "code",
   "execution_count": 26,
   "id": "8e467a4a-1873-43fa-8955-10d326778924",
   "metadata": {},
   "outputs": [],
   "source": [
    "index = np.random.permutation(10000)\n",
    "X_test, y_test = X_test.iloc[index], y_test.iloc[index]"
   ]
  },
  {
   "cell_type": "markdown",
   "id": "ed7fbf6b-1377-4849-abc8-e3fd792c0999",
   "metadata": {},
   "source": [
    "## 4. Seleçao e treinamento do modelo"
   ]
  },
  {
   "cell_type": "code",
   "execution_count": 28,
   "id": "8049f207-51b6-4381-bb37-34fb6594483d",
   "metadata": {},
   "outputs": [],
   "source": [
    "from sklearn.neighbors import KNeighborsClassifier"
   ]
  },
  {
   "cell_type": "code",
   "execution_count": 29,
   "id": "e834e878-7e8e-43f7-bac5-6fedb3181d1e",
   "metadata": {},
   "outputs": [
    {
     "data": {
      "text/plain": [
       "KNeighborsClassifier()"
      ]
     },
     "execution_count": 29,
     "metadata": {},
     "output_type": "execute_result"
    }
   ],
   "source": [
    "kn_clf = KNeighborsClassifier()\n",
    "kn_clf.fit(X_train, y_train)"
   ]
  },
  {
   "cell_type": "code",
   "execution_count": 30,
   "id": "55e4ed8d-bd56-4243-8edc-97b777fd1b6b",
   "metadata": {},
   "outputs": [],
   "source": [
    "predictions = kn_clf.predict(X_test)"
   ]
  },
  {
   "cell_type": "code",
   "execution_count": 39,
   "id": "9aeb44d7-76ca-4bc3-89e4-a4bbdfc06d91",
   "metadata": {},
   "outputs": [],
   "source": [
    "accuracy = sum(predictions == y_test)/len(predictions)"
   ]
  },
  {
   "cell_type": "code",
   "execution_count": 40,
   "id": "06dec0e5-e188-484f-967d-befe49d47038",
   "metadata": {},
   "outputs": [
    {
     "name": "stdout",
     "output_type": "stream",
     "text": [
      "0.9688\n"
     ]
    }
   ],
   "source": [
    "print(accuracy)"
   ]
  },
  {
   "cell_type": "code",
   "execution_count": 41,
   "id": "83bad665-0f05-4596-9c64-34ebf2055014",
   "metadata": {},
   "outputs": [
    {
     "data": {
      "text/plain": [
       "0.9688"
      ]
     },
     "execution_count": 41,
     "metadata": {},
     "output_type": "execute_result"
    }
   ],
   "source": [
    "accuracy_score(predictions,y_test)"
   ]
  },
  {
   "cell_type": "markdown",
   "id": "d73d0177-5874-47f1-ad5f-06ef6d89006f",
   "metadata": {},
   "source": [
    "## 5. Ajustando o Modelo\n"
   ]
  },
  {
   "cell_type": "code",
   "execution_count": 42,
   "id": "c4359520-8c0b-455d-9bcb-ba190015b8d8",
   "metadata": {},
   "outputs": [],
   "source": [
    "from sklearn.model_selection import GridSearchCV"
   ]
  },
  {
   "cell_type": "code",
   "execution_count": 43,
   "id": "18a25d68-4dfe-4759-a214-1ac25bb4aca6",
   "metadata": {},
   "outputs": [
    {
     "data": {
      "text/plain": [
       "{'algorithm': 'auto',\n",
       " 'leaf_size': 30,\n",
       " 'metric': 'minkowski',\n",
       " 'metric_params': None,\n",
       " 'n_jobs': None,\n",
       " 'n_neighbors': 5,\n",
       " 'p': 2,\n",
       " 'weights': 'uniform'}"
      ]
     },
     "execution_count": 43,
     "metadata": {},
     "output_type": "execute_result"
    }
   ],
   "source": [
    "kn_clf = KNeighborsClassifier()\n",
    "kn_clf.get_params()"
   ]
  },
  {
   "cell_type": "code",
   "execution_count": 51,
   "id": "147fc1b1-2d30-4062-a90d-0d9a4eb6e727",
   "metadata": {},
   "outputs": [],
   "source": [
    "param_grid = { \n",
    "    'n_neighbors': [2, 3, 5, 7, 9, 11, 15, 20, 27],\n",
    "    'weights': ['uniform','distance'],\n",
    "    'n_jobs': [-1]\n",
    "}"
   ]
  },
  {
   "cell_type": "code",
   "execution_count": 52,
   "id": "a0a8a586-7206-45ab-a43f-8754d5a196ae",
   "metadata": {},
   "outputs": [],
   "source": [
    "grid_search = GridSearchCV(kn_clf, param_grid, cv=5, scoring='accuracy')"
   ]
  },
  {
   "cell_type": "code",
   "execution_count": 53,
   "id": "88736f0e-88f8-4c11-9296-5caff2b7b303",
   "metadata": {},
   "outputs": [
    {
     "data": {
      "text/plain": [
       "GridSearchCV(cv=5, estimator=KNeighborsClassifier(),\n",
       "             param_grid={'n_jobs': [-1],\n",
       "                         'n_neighbors': [2, 3, 5, 7, 9, 11, 15, 20, 27],\n",
       "                         'weights': ['uniform', 'distance']},\n",
       "             scoring='accuracy')"
      ]
     },
     "execution_count": 53,
     "metadata": {},
     "output_type": "execute_result"
    }
   ],
   "source": [
    "grid_search.fit(X_train, y_train)"
   ]
  },
  {
   "cell_type": "code",
   "execution_count": 54,
   "id": "0174fa10-7e3a-4b50-8051-2430eee7d129",
   "metadata": {},
   "outputs": [
    {
     "data": {
      "text/plain": [
       "{'n_jobs': -1, 'n_neighbors': 3, 'weights': 'distance'}"
      ]
     },
     "execution_count": 54,
     "metadata": {},
     "output_type": "execute_result"
    }
   ],
   "source": [
    "grid_search.best_params_"
   ]
  },
  {
   "cell_type": "code",
   "execution_count": 76,
   "id": "c575f831-e791-44c1-8093-21b9fe4c9507",
   "metadata": {},
   "outputs": [
    {
     "data": {
      "text/plain": [
       "KNeighborsClassifier(n_jobs=-1, n_neighbors=3, weights='distance')"
      ]
     },
     "execution_count": 76,
     "metadata": {},
     "output_type": "execute_result"
    }
   ],
   "source": [
    "kn_clf_best = KNeighborsClassifier(n_neighbors=3, weights='distance', n_jobs=-1)\n",
    "kn_clf_best.fit(X_train,y_train)"
   ]
  },
  {
   "cell_type": "code",
   "execution_count": 77,
   "id": "b3b249b1-b8a5-4082-8556-300bea5fa152",
   "metadata": {},
   "outputs": [],
   "source": [
    "predictions = kn_clf_best.predict(X_test)"
   ]
  },
  {
   "cell_type": "code",
   "execution_count": 78,
   "id": "18024993-0158-4a4d-938c-b2af0635bf5e",
   "metadata": {},
   "outputs": [
    {
     "data": {
      "text/plain": [
       "0.9717"
      ]
     },
     "execution_count": 78,
     "metadata": {},
     "output_type": "execute_result"
    }
   ],
   "source": [
    "accuracy_score(predictions,y_test)"
   ]
  },
  {
   "cell_type": "markdown",
   "id": "74456876-944b-47b8-8d7e-8175aaa93efb",
   "metadata": {},
   "source": [
    "### Escreva uma função que modifique apenas as imagens de treinamento do dataset deslocando um pixel em de cada imagem em qualquer direção (esquerda, direita, para cima ou para baixo), ou seja, para cada imagem no conjunto de treinamento, quatro imagens deslocadas são criadas e as adicione ao conjunto de treinamento. Em seguida, treine seu melhor classificador com o novo conjunto aumentado. Finalmente, meça o desempenho do modelo através das métricas acurácia, precisão, revocação e F1-score. Dica: a função shift() do módulo scipy.ndimage.interpolation pode ser útil para deslocar o pixel."
   ]
  },
  {
   "cell_type": "code",
   "execution_count": 101,
   "id": "a455fec8-948d-42d8-b301-d6d032bd291c",
   "metadata": {},
   "outputs": [],
   "source": [
    "from scipy.ndimage import shift\n",
    "from sklearn.metrics import accuracy_score, precision_score, recall_score, f1_score"
   ]
  },
  {
   "cell_type": "code",
   "execution_count": 102,
   "id": "080cf63b-2c70-4070-8ded-fb4ab0ee494a",
   "metadata": {},
   "outputs": [],
   "source": [
    "def augment_dataset(X_train, y_train, dx, dy):\n",
    "    X_train_augmented = []\n",
    "    y_train_augmented = []\n",
    "\n",
    "    for image, label in zip(X_train, y_train):\n",
    "        # Adiciona a imagem original ao conjunto de treinamento aumentado\n",
    "        X_train_augmented.append(image)\n",
    "        y_train_augmented.append(label)\n",
    "\n",
    "        # Desloca a imagem para a esquerda\n",
    "        shifted_left = shift(image.reshape((28, 28)), [-dy, -dx], cval=0, mode=\"constant\")\n",
    "        X_train_augmented.append(shifted_left.flatten())\n",
    "        y_train_augmented.append(label)\n",
    "\n",
    "        # Desloca a imagem para a direita\n",
    "        shifted_right = shift(image.reshape((28, 28)), [dy, dx], cval=0, mode=\"constant\")\n",
    "        X_train_augmented.append(shifted_right.flatten())\n",
    "        y_train_augmented.append(label)\n",
    "\n",
    "        # Desloca a imagem para cima\n",
    "        shifted_up = shift(image.reshape((28, 28)), [-dx, dy], cval=0, mode=\"constant\")\n",
    "        X_train_augmented.append(shifted_up.flatten())\n",
    "        y_train_augmented.append(label)\n",
    "\n",
    "        # Desloca a imagem para baixo\n",
    "        shifted_down = shift(image.reshape((28, 28)), [dx, -dy], cval=0, mode=\"constant\")\n",
    "        X_train_augmented.append(shifted_down.flatten())\n",
    "        y_train_augmented.append(label)\n",
    "\n",
    "    # Retorna o conjunto de treinamento aumentado\n",
    "    return np.array(X_train_augmented), np.array(y_train_augmented)"
   ]
  },
  {
   "cell_type": "code",
   "execution_count": 103,
   "id": "5c80e973-380a-4d20-9eef-ca5b19a91b12",
   "metadata": {},
   "outputs": [],
   "source": [
    "# Define os deslocamentos desejados (um pixel em cada direção)\n",
    "dx = 1\n",
    "dy = 1"
   ]
  },
  {
   "cell_type": "code",
   "execution_count": 105,
   "id": "b2c66eb2-5a96-4f80-be55-d97051d73431",
   "metadata": {},
   "outputs": [],
   "source": [
    "# Modifica o conjunto de treinamento\n",
    "X_train_augmented, y_train_augmented = augment_dataset(X_train.to_numpy(), y_train, dx, dy)"
   ]
  },
  {
   "cell_type": "code",
   "execution_count": 106,
   "id": "88daf615-c7de-4242-aaff-ee645b7e511c",
   "metadata": {},
   "outputs": [
    {
     "data": {
      "text/plain": [
       "KNeighborsClassifier(n_jobs=-1, n_neighbors=3, weights='distance')"
      ]
     },
     "execution_count": 106,
     "metadata": {},
     "output_type": "execute_result"
    }
   ],
   "source": [
    "# Treina o classificador com o conjunto de treinamento aumentado\n",
    "kn_clf_best_augmented = KNeighborsClassifier(n_neighbors=3, weights='distance', n_jobs=-1)\n",
    "kn_clf_best_augmented.fit(X_train_augmented, y_train_augmented)"
   ]
  },
  {
   "cell_type": "code",
   "execution_count": 107,
   "id": "af0e1254-7a75-486c-a73c-50af7a2765b4",
   "metadata": {},
   "outputs": [
    {
     "name": "stderr",
     "output_type": "stream",
     "text": [
      "C:\\Users\\socia\\anaconda3\\lib\\site-packages\\sklearn\\base.py:443: UserWarning: X has feature names, but KNeighborsClassifier was fitted without feature names\n",
      "  warnings.warn(\n"
     ]
    }
   ],
   "source": [
    "# Realiza previsões no conjunto de teste\n",
    "predictions_augmented = kn_clf_best_augmented.predict(X_test)"
   ]
  },
  {
   "cell_type": "code",
   "execution_count": 108,
   "id": "3b9da11c-d7f1-45fb-ad83-42dd3404578e",
   "metadata": {},
   "outputs": [],
   "source": [
    "# Mede o desempenho do modelo com base em métricas\n",
    "accuracy_augmented = accuracy_score(y_test, predictions_augmented)\n",
    "precision_augmented = precision_score(y_test, predictions_augmented, average='weighted')\n",
    "recall_augmented = recall_score(y_test, predictions_augmented, average='weighted')\n",
    "f1_score_augmented = f1_score(y_test, predictions_augmented, average='weighted')"
   ]
  },
  {
   "cell_type": "code",
   "execution_count": 109,
   "id": "42d6c009-b710-4a58-a760-ee4cf3d2e4b6",
   "metadata": {},
   "outputs": [
    {
     "name": "stdout",
     "output_type": "stream",
     "text": [
      "Accuracy: 0.974\n",
      "Precision: 0.9742193729346603\n",
      "Recall: 0.974\n",
      "F1-score: 0.9739830772641294\n"
     ]
    }
   ],
   "source": [
    "# Imprime as métricas de desempenho\n",
    "print(\"Accuracy:\", accuracy_augmented)\n",
    "print(\"Precision:\", precision_augmented)\n",
    "print(\"Recall:\", recall_augmented)\n",
    "print(\"F1-score:\", f1_score_augmented)"
   ]
  },
  {
   "cell_type": "code",
   "execution_count": 112,
   "id": "f2a4ddd2-5738-4e22-b379-654672017a01",
   "metadata": {},
   "outputs": [
    {
     "data": {
      "text/plain": [
       "((300000, 784), (300000,))"
      ]
     },
     "execution_count": 112,
     "metadata": {},
     "output_type": "execute_result"
    }
   ],
   "source": [
    "X_train_augmented.shape, y_train_augmented.shape"
   ]
  },
  {
   "cell_type": "code",
   "execution_count": null,
   "id": "5b69546d-012f-4718-b91f-51b4e6945067",
   "metadata": {},
   "outputs": [],
   "source": []
  }
 ],
 "metadata": {
  "kernelspec": {
   "display_name": "Python 3 (ipykernel)",
   "language": "python",
   "name": "python3"
  },
  "language_info": {
   "codemirror_mode": {
    "name": "ipython",
    "version": 3
   },
   "file_extension": ".py",
   "mimetype": "text/x-python",
   "name": "python",
   "nbconvert_exporter": "python",
   "pygments_lexer": "ipython3",
   "version": "3.9.12"
  }
 },
 "nbformat": 4,
 "nbformat_minor": 5
}
